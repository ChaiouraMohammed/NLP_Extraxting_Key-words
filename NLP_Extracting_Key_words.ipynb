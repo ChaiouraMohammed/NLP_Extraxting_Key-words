{
  "nbformat": 4,
  "nbformat_minor": 0,
  "metadata": {
    "colab": {
      "provenance": []
    },
    "kernelspec": {
      "name": "python3",
      "display_name": "Python 3"
    },
    "language_info": {
      "name": "python"
    }
  },
  "cells": [
    {
      "cell_type": "code",
      "execution_count": 1,
      "metadata": {
        "colab": {
          "base_uri": "https://localhost:8080/"
        },
        "id": "TD8OU7PMMh0x",
        "outputId": "29b93cad-db1b-44a2-c915-31c336224119"
      },
      "outputs": [
        {
          "output_type": "stream",
          "name": "stderr",
          "text": [
            "[nltk_data] Downloading package punkt to /root/nltk_data...\n",
            "[nltk_data]   Unzipping tokenizers/punkt.zip.\n"
          ]
        }
      ],
      "source": [
        "import nltk\n",
        "nltk.download('punkt')\n",
        "from nltk.tokenize import word_tokenize\n",
        "from nltk.tag import pos_tag"
      ]
    },
    {
      "cell_type": "code",
      "source": [
        "nltk.download('averaged_perceptron_tagger')"
      ],
      "metadata": {
        "colab": {
          "base_uri": "https://localhost:8080/"
        },
        "id": "bWi0WNs8Mqjw",
        "outputId": "f2da3a46-1752-48ec-906b-e8ef4881a870"
      },
      "execution_count": 2,
      "outputs": [
        {
          "output_type": "stream",
          "name": "stderr",
          "text": [
            "[nltk_data] Downloading package averaged_perceptron_tagger to\n",
            "[nltk_data]     /root/nltk_data...\n",
            "[nltk_data]   Unzipping taggers/averaged_perceptron_tagger.zip.\n"
          ]
        },
        {
          "output_type": "execute_result",
          "data": {
            "text/plain": [
              "True"
            ]
          },
          "metadata": {},
          "execution_count": 2
        }
      ]
    },
    {
      "cell_type": "code",
      "source": [
        "phrase =  \"Artificial intelligence (AI) is revolutionizing various industries, including healthcare, finance, and transportation. AI algorithms analyze vast amounts of data to make predictions, automate tasks, and improve decision-making processes. Machine learning, a subset of AI, enables systems to learn from experience and improve their performance over time. With advancements in AI technology, businesses are gaining competitive advantages by leveraging data-driven insights to optimize operations and enhance customer experiences\""
      ],
      "metadata": {
        "id": "pxZTA3N8Mqvm"
      },
      "execution_count": 29,
      "outputs": []
    },
    {
      "cell_type": "code",
      "source": [
        "tokens = word_tokenize(phrase)"
      ],
      "metadata": {
        "id": "9s_Kuw0zMq5H"
      },
      "execution_count": 30,
      "outputs": []
    },
    {
      "cell_type": "code",
      "source": [
        "tags = pos_tag(tokens)"
      ],
      "metadata": {
        "id": "lcCe1v6aMrB6"
      },
      "execution_count": 32,
      "outputs": []
    },
    {
      "cell_type": "code",
      "source": [
        "competence_tags = ['NN', 'NNS', 'NNP', 'JJ']"
      ],
      "metadata": {
        "id": "uNlKpmGdMrFl"
      },
      "execution_count": 33,
      "outputs": []
    },
    {
      "cell_type": "code",
      "source": [
        "competences = []"
      ],
      "metadata": {
        "id": "pX70ohgXNWg6"
      },
      "execution_count": 34,
      "outputs": []
    },
    {
      "cell_type": "code",
      "source": [
        "for token, tag in tags:\n",
        "    if tag in competence_tags:\n",
        "        competences.append(token)"
      ],
      "metadata": {
        "id": "wkH_eDtkNWdf"
      },
      "execution_count": 35,
      "outputs": []
    },
    {
      "cell_type": "code",
      "source": [
        "print(\"Compétences extraites :\", competences)"
      ],
      "metadata": {
        "colab": {
          "base_uri": "https://localhost:8080/"
        },
        "id": "sEQJ5iZYNgVZ",
        "outputId": "26ab1ea5-92cb-4b65-de71-1b6fa7f48390"
      },
      "execution_count": 36,
      "outputs": [
        {
          "output_type": "stream",
          "name": "stdout",
          "text": [
            "Compétences extraites : ['Artificial', 'intelligence', 'AI', 'various', 'industries', 'healthcare', 'finance', 'transportation', 'AI', 'algorithms', 'analyze', 'vast', 'amounts', 'data', 'predictions', 'automate', 'tasks', 'decision-making', 'processes', 'Machine', 'learning', 'subset', 'AI', 'systems', 'experience', 'performance', 'time', 'advancements', 'AI', 'technology', 'businesses', 'competitive', 'advantages', 'data-driven', 'insights', 'operations', 'customer', 'experiences']\n"
          ]
        }
      ]
    },
    {
      "cell_type": "code",
      "source": [],
      "metadata": {
        "id": "lXHXyxoENgSl"
      },
      "execution_count": null,
      "outputs": []
    },
    {
      "cell_type": "code",
      "source": [],
      "metadata": {
        "id": "EULN2QDrNWaZ"
      },
      "execution_count": null,
      "outputs": []
    },
    {
      "cell_type": "code",
      "source": [],
      "metadata": {
        "id": "Ob_-yzZoNWV3"
      },
      "execution_count": null,
      "outputs": []
    },
    {
      "cell_type": "code",
      "source": [],
      "metadata": {
        "id": "lWduD0ZONWSH"
      },
      "execution_count": null,
      "outputs": []
    }
  ]
}